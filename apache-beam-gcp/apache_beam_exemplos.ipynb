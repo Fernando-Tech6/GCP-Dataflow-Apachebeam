{
 "cells": [
  {
   "cell_type": "markdown",
   "source": [
    "# Inicio do curso Engenharia de Dados com Dataflow e Apache Beam na GCP"
   ],
   "metadata": {}
  },
  {
   "cell_type": "markdown",
   "source": [
    "## Foi instalado no ambiente o apache beam porém antes foi necessário instalar o pacote\n",
    "##  pip install wheel  e depois  pip install apache-beam[interactive] \n",
    "https://beam.apache.org/get-started/quickstart-py/\n",
    "\n",
    "### Docs\n",
    "https://beam.apache.org/releases/pydoc/2.31.0/"
   ],
   "metadata": {}
  },
  {
   "cell_type": "code",
   "execution_count": 2,
   "source": [
    "import apache_beam as beam"
   ],
   "outputs": [],
   "metadata": {}
  },
  {
   "cell_type": "code",
   "execution_count": 3,
   "source": [
    "# definir Pipeline\n",
    "p1 = beam.Pipeline()\n",
    "\n",
    "#Criando uma Pcollection\n",
    "Pcollection = (\n",
    "    p1 \n",
    "    | \"Tupla\" >> beam.Create( [ (\"Cassio\",32) , (\"Vics\",21) ] ) \n",
    "    | \"print Tupla\" >> beam.Map(print), #tupla\n",
    "\n",
    "    p1\n",
    "    | \"Lista\" >> beam.Create ( [ 1,2,3 ] )\n",
    "    |  \"print Lista\" >> beam.Map(print) #lista\n",
    ")\n",
    "\n",
    "p1.run()\n",
    "\n",
    "# beam.Create ler a entrada e aceita diversos tipos de arquivos(txt, csv,...Bigquery e por ai vai)"
   ],
   "outputs": [
    {
     "output_type": "display_data",
     "data": {
      "application/javascript": "\n        if (typeof window.interactive_beam_jquery == 'undefined') {\n          var jqueryScript = document.createElement('script');\n          jqueryScript.src = 'https://code.jquery.com/jquery-3.4.1.slim.min.js';\n          jqueryScript.type = 'text/javascript';\n          jqueryScript.onload = function() {\n            var datatableScript = document.createElement('script');\n            datatableScript.src = 'https://cdn.datatables.net/1.10.20/js/jquery.dataTables.min.js';\n            datatableScript.type = 'text/javascript';\n            datatableScript.onload = function() {\n              window.interactive_beam_jquery = jQuery.noConflict(true);\n              window.interactive_beam_jquery(document).ready(function($){\n                \n              });\n            }\n            document.head.appendChild(datatableScript);\n          };\n          document.head.appendChild(jqueryScript);\n        } else {\n          window.interactive_beam_jquery(document).ready(function($){\n            \n          });\n        }"
     },
     "metadata": {}
    },
    {
     "output_type": "stream",
     "name": "stderr",
     "text": [
      "WARNING:root:Make sure that locally built Python SDK docker image has Python 3.8 interpreter.\n"
     ]
    },
    {
     "output_type": "stream",
     "name": "stdout",
     "text": [
      "1\n",
      "2\n",
      "3\n",
      "('Cassio', 32)\n",
      "('Vics', 21)\n"
     ]
    },
    {
     "output_type": "execute_result",
     "data": {
      "text/plain": [
       "<apache_beam.runners.portability.fn_api_runner.fn_runner.RunnerResult at 0x7ff8d8a945b0>"
      ]
     },
     "metadata": {},
     "execution_count": 3
    }
   ],
   "metadata": {}
  },
  {
   "cell_type": "code",
   "execution_count": 4,
   "source": [
    "p1 = beam.Pipeline()\n",
    "\n",
    "voos = (\n",
    "\n",
    "    #ler arquivo, e excluir cabeçalho\n",
    "    # as pipes(I) signigicam que um comando é usado como input de outro\n",
    "    p1              \n",
    "    | \"Importar Dados\" >> beam.io.ReadFromText(\"data/voos_sample.csv\", skip_header_lines = 1)\n",
    "    | \"Separar por Vírgulas\" >> beam.Map(lambda record: record.split(','))\n",
    "    #| 'Mostrar Resultados' >> beam.Map(print) #Para exibir na tela o resultado(foi colocado como exemplo)\n",
    "    | \"Gravar Resultado\" >> beam.io.WriteToText(\"data/voos.txt\")\n",
    ")\n",
    "\n",
    "#Comando para executar\n",
    "p1.run()\n",
    "\n"
   ],
   "outputs": [
    {
     "output_type": "stream",
     "name": "stderr",
     "text": [
      "WARNING:root:Make sure that locally built Python SDK docker image has Python 3.8 interpreter.\n",
      "WARNING:apache_beam.io.filebasedsink:Deleting 1 existing files in target path matching: -*-of-%(num_shards)05d\n"
     ]
    },
    {
     "output_type": "execute_result",
     "data": {
      "text/plain": [
       "<apache_beam.runners.portability.fn_api_runner.fn_runner.RunnerResult at 0x7ff8d8243eb0>"
      ]
     },
     "metadata": {},
     "execution_count": 4
    }
   ],
   "metadata": {}
  },
  {
   "cell_type": "markdown",
   "source": [
    "## beam.Map() A função do map é aplicar uma transformação.  lambda record, diz que para cada gravação/registro ele irá dividir utilizando o metodo split(). Posso usar o record para outras transformações\n",
    "\n",
    "## beam.Flatmap() Realiza também uma transformação, porém separa ou criar novas colunas a partir de uma coleção de elementos(pode ser espaço, virgula, ponto e virgula)\n",
    "\n",
    "https://beam.apache.org/documentation/transforms/python/elementwise/flatmap/"
   ],
   "metadata": {}
  },
  {
   "cell_type": "code",
   "execution_count": 5,
   "source": [
    "p2 =beam.Pipeline()\n",
    "\n",
    "Collection = (\n",
    "    p2\n",
    "    | 'Importando dados' >> beam.io.ReadFromText('data/poema.txt')\n",
    "    | 'Transformando' >> beam.FlatMap(lambda record: record.split()) \n",
    "    | 'Gravando resultado' >> beam.io.WriteToText('data/resultado_poema.txt')\n",
    ")\n",
    "\n",
    "p2.run()\n",
    "\n",
    "#Resultado: Usando o flatmap, o texto foi foi separado por cada espaço"
   ],
   "outputs": [
    {
     "output_type": "stream",
     "name": "stderr",
     "text": [
      "WARNING:root:Make sure that locally built Python SDK docker image has Python 3.8 interpreter.\n",
      "WARNING:apache_beam.io.filebasedsink:Deleting 1 existing files in target path matching: -*-of-%(num_shards)05d\n"
     ]
    },
    {
     "output_type": "execute_result",
     "data": {
      "text/plain": [
       "<apache_beam.runners.portability.fn_api_runner.fn_runner.RunnerResult at 0x7ff8e4aa2400>"
      ]
     },
     "metadata": {},
     "execution_count": 5
    }
   ],
   "metadata": {}
  },
  {
   "cell_type": "markdown",
   "source": [
    "# Criando filtros\n",
    "\n",
    "https://beam.apache.org/documentation/transforms/python/elementwise/filter/"
   ],
   "metadata": {}
  },
  {
   "cell_type": "code",
   "execution_count": 6,
   "source": [
    "\n",
    "p3 = beam.Pipeline()\n",
    "\n",
    "voos3 = (\n",
    "\n",
    "    #Utilziando o Filter será filtrado para retorna apenas as linhas onde o LAX for verdadeiro, \n",
    "    #no caso o record[3] está referenciando a 4 coluna da tabela, que é o aeroporto\n",
    "    \n",
    "    p3              \n",
    "    | \"Importar Dados\" >> beam.io.ReadFromText(\"data/voos_sample.csv\")\n",
    "    | \"Separar por Vírgulas\" >> beam.FlatMap(lambda record: record.split())\n",
    "    | 'Pegar voos de Los Angeles' >> beam.Filter(lambda record: record[3] == 'LAX')\n",
    "    | \"Gravar Resultado\" >> beam.io.WriteToText(\"data/filtro_voos.txt\")\n",
    "\n",
    ")\n",
    "\n",
    "p3.run()\n",
    "\n"
   ],
   "outputs": [
    {
     "output_type": "stream",
     "name": "stderr",
     "text": [
      "WARNING:root:Make sure that locally built Python SDK docker image has Python 3.8 interpreter.\n",
      "WARNING:apache_beam.io.filebasedsink:No shards found to finalize. num_shards: 1, skipped: 1\n"
     ]
    },
    {
     "output_type": "execute_result",
     "data": {
      "text/plain": [
       "<apache_beam.runners.portability.fn_api_runner.fn_runner.RunnerResult at 0x7ff8d82432e0>"
      ]
     },
     "metadata": {},
     "execution_count": 6
    }
   ],
   "metadata": {}
  },
  {
   "cell_type": "code",
   "execution_count": 7,
   "source": [
    "palavras = ['quatro', 'três']\n",
    "\n",
    "def encontraPalavras(i):\n",
    "    if i in palavras:\n",
    "        return True\n",
    "\n",
    "p4 = beam.Pipeline()\n",
    "\n",
    "Collection = (\n",
    "    p4\n",
    "    | 'Importando dados' >> beam.io.ReadFromText('data/poema.txt')\n",
    "    | 'Transformando' >> beam.FlatMap(lambda record: record.split()) \n",
    "    | 'Filtrando'   >> beam.Filter(encontraPalavras)\n",
    "    | 'Gravando resultado' >> beam.io.WriteToText('data/filtro_poema.txt')\n",
    ")\n",
    "\n",
    "p4.run()\n"
   ],
   "outputs": [
    {
     "output_type": "stream",
     "name": "stderr",
     "text": [
      "WARNING:root:Make sure that locally built Python SDK docker image has Python 3.8 interpreter.\n",
      "WARNING:apache_beam.io.filebasedsink:Deleting 1 existing files in target path matching: -*-of-%(num_shards)05d\n"
     ]
    },
    {
     "output_type": "execute_result",
     "data": {
      "text/plain": [
       "<apache_beam.runners.portability.fn_api_runner.fn_runner.RunnerResult at 0x7ff8d8243160>"
      ]
     },
     "metadata": {},
     "execution_count": 7
    }
   ],
   "metadata": {}
  },
  {
   "cell_type": "markdown",
   "source": [
    "# Flatten - Ela agrupa dados do mesmo tipo em uma unica PCollection, basicamente igual um UNION"
   ],
   "metadata": {}
  },
  {
   "cell_type": "code",
   "execution_count": 8,
   "source": [
    "p5 = beam.Pipeline()\n",
    "\n",
    "negros = ('Adão', 'Jesus', 'Fernando')\n",
    "brancos = ('Tulio', 'Grace', 'Joca')\n",
    "indios = ('Vic', 'Marta', 'Tom')\n",
    "\n",
    "negros_pc = p5 | 'Criando PCollection negros' >> beam.Create(negros)\n",
    "brancos_pc = p5 | 'Criando PCollection brancos' >> beam.Create(brancos)\n",
    "indis_pc = p5 | 'Criando PCollection indios' >> beam.Create(indios)\n",
    "\n",
    "pessoas = ((negros_pc, brancos_pc, indis_pc) | beam.Flatten() | beam.Map(print))\n",
    "\n",
    "p5.run()\n",
    "\n",
    "#Resultado: Foi unido 3 tuplas em uma unica usando o Flatten()\n"
   ],
   "outputs": [
    {
     "output_type": "stream",
     "name": "stderr",
     "text": [
      "WARNING:root:Make sure that locally built Python SDK docker image has Python 3.8 interpreter.\n"
     ]
    },
    {
     "output_type": "stream",
     "name": "stdout",
     "text": [
      "Tulio\n",
      "Grace\n",
      "Joca\n",
      "Adão\n",
      "Jesus\n",
      "Fernando\n",
      "Vic\n",
      "Marta\n",
      "Tom\n"
     ]
    },
    {
     "output_type": "execute_result",
     "data": {
      "text/plain": [
       "<apache_beam.runners.portability.fn_api_runner.fn_runner.RunnerResult at 0x7ff8d80a3250>"
      ]
     },
     "metadata": {},
     "execution_count": 8
    }
   ],
   "metadata": {}
  },
  {
   "cell_type": "markdown",
   "source": [
    "# CombinePerKey - Função de agregação, baseada chave em uma lista de valores"
   ],
   "metadata": {}
  },
  {
   "cell_type": "code",
   "execution_count": 9,
   "source": [
    "p6 = beam.Pipeline()\n",
    "\n",
    "Tempo_Atrasos = (\n",
    "    p6\n",
    "    | \"Importar Dados\" >> beam.io.ReadFromText(\"data/voos_sample.csv\")\n",
    "    | \"Separar por Vírgulas\" >> beam.Map(lambda record: record.split(','))\n",
    "    | \"Pegar voos de Los Angeles\" >> beam.Filter(lambda record: int(record[8]) > 0 )\n",
    "    | \"Criar par\" >> beam.Map(lambda record: (record[4],int(record[8])))\n",
    "    | \"Somar por key\" >> beam.CombinePerKey(sum)\n",
    "    | \"Mostrar Resultados\" >> beam.Map(print)\n",
    ")\n",
    "\n",
    "p6.run()"
   ],
   "outputs": [
    {
     "output_type": "stream",
     "name": "stderr",
     "text": [
      "WARNING:root:Make sure that locally built Python SDK docker image has Python 3.8 interpreter.\n"
     ]
    },
    {
     "output_type": "stream",
     "name": "stdout",
     "text": [
      "('LAX', 94)\n",
      "('HNL', 15)\n",
      "('DFW', 95)\n",
      "('OGG', 138)\n",
      "('JFK', 220)\n"
     ]
    },
    {
     "output_type": "execute_result",
     "data": {
      "text/plain": [
       "<apache_beam.runners.portability.fn_api_runner.fn_runner.RunnerResult at 0x7ff8d8132a90>"
      ]
     },
     "metadata": {},
     "execution_count": 9
    }
   ],
   "metadata": {}
  },
  {
   "cell_type": "markdown",
   "source": [
    "# Combiners Count Perkey - Realiza contas com base nas combinações, realiza um GroupBy com Count"
   ],
   "metadata": {}
  },
  {
   "cell_type": "code",
   "execution_count": 10,
   "source": [
    "p7 = beam.Pipeline()\n",
    "\n",
    "Qtd_Atrasos = (\n",
    "    p7\n",
    "    | \"Importar Dados\" >> beam.io.ReadFromText(\"data/voos_sample.csv\", skip_header_lines = 1)\n",
    "    | \"Separar por Vírgulas\" >> beam.Map(lambda record: record.split(','))\n",
    "    | \"Pegar voos de Los Angeles\" >> beam.Filter(lambda record: int(record[8]) > 0 )\n",
    "    | \"Criar par\" >> beam.Map(lambda record: (record[4],int(record[8])))\n",
    "    | \"Contar por key\" >> beam.combiners.Count.PerKey()\n",
    "    | \"Mostrar Resultados\" >> beam.Map(print)\n",
    ")\n",
    "\n",
    "p7.run()"
   ],
   "outputs": [
    {
     "output_type": "stream",
     "name": "stderr",
     "text": [
      "WARNING:root:Make sure that locally built Python SDK docker image has Python 3.8 interpreter.\n"
     ]
    },
    {
     "output_type": "stream",
     "name": "stdout",
     "text": [
      "('LAX', 4)\n",
      "('HNL', 1)\n",
      "('DFW', 1)\n",
      "('OGG', 1)\n",
      "('JFK', 4)\n"
     ]
    },
    {
     "output_type": "execute_result",
     "data": {
      "text/plain": [
       "<apache_beam.runners.portability.fn_api_runner.fn_runner.RunnerResult at 0x7ff8d8144820>"
      ]
     },
     "metadata": {},
     "execution_count": 10
    }
   ],
   "metadata": {}
  },
  {
   "cell_type": "markdown",
   "source": [
    "# Combiners Count PerElement - Realiza a contagem de quantos elementos são iguais"
   ],
   "metadata": {}
  },
  {
   "cell_type": "code",
   "execution_count": 15,
   "source": [
    "p7 = beam.Pipeline()\n",
    "\n",
    "Qtd_Atrasos = (\n",
    "    p7\n",
    "    | \"Importar Dados\" >> beam.io.ReadFromText(\"data/voos_sample.csv\", skip_header_lines = 1)\n",
    "    | \"Separar por Vírgulas\" >> beam.Map(lambda record: record.split(','))\n",
    "    | \"Pegar voos de Los Angeles\" >> beam.Filter(lambda record: int(record[8]) > 0 )\n",
    "    | \"Criar par\" >> beam.Map(lambda record: (record[4],int(record[8])))\n",
    "    | \"Contar por key\" >> beam.combiners.Count.PerElement()\n",
    "    | \"Mostrar Resultados\" >> beam.Map(print)\n",
    ")\n",
    "\n",
    "p7.run()"
   ],
   "outputs": [
    {
     "output_type": "stream",
     "name": "stderr",
     "text": [
      "WARNING:root:Make sure that locally built Python SDK docker image has Python 3.8 interpreter.\n"
     ]
    },
    {
     "output_type": "stream",
     "name": "stdout",
     "text": [
      "(('LAX', 39), 1)\n",
      "(('HNL', 15), 1)\n",
      "(('DFW', 95), 1)\n",
      "(('OGG', 138), 1)\n",
      "(('LAX', 19), 1)\n",
      "(('JFK', 1), 1)\n",
      "(('JFK', 88), 1)\n",
      "(('LAX', 18), 1)\n",
      "(('JFK', 120), 1)\n",
      "(('LAX', 16), 1)\n",
      "(('JFK', 11), 1)\n"
     ]
    },
    {
     "output_type": "execute_result",
     "data": {
      "text/plain": [
       "<apache_beam.runners.portability.fn_api_runner.fn_runner.RunnerResult at 0x7ff8d1314af0>"
      ]
     },
     "metadata": {},
     "execution_count": 15
    }
   ],
   "metadata": {}
  },
  {
   "cell_type": "markdown",
   "source": [
    "# Combiners Count Globally - Contabiliza os elementos que estão na agregação"
   ],
   "metadata": {}
  },
  {
   "cell_type": "code",
   "execution_count": 16,
   "source": [
    "p7 = beam.Pipeline()\n",
    "\n",
    "Qtd_Atrasos = (\n",
    "    p7\n",
    "    | \"Importar Dados\" >> beam.io.ReadFromText(\"data/voos_sample.csv\", skip_header_lines = 1)\n",
    "    | \"Separar por Vírgulas\" >> beam.Map(lambda record: record.split(','))\n",
    "    | \"Pegar voos de Los Angeles\" >> beam.Filter(lambda record: int(record[8]) > 0 )\n",
    "    | \"Criar par\" >> beam.Map(lambda record: (record[4],int(record[8])))\n",
    "    | \"Contar por key\" >> beam.combiners.Count.Globally()\n",
    "    | \"Mostrar Resultados\" >> beam.Map(print)\n",
    ")\n",
    "\n",
    "p7.run()"
   ],
   "outputs": [
    {
     "output_type": "stream",
     "name": "stderr",
     "text": [
      "WARNING:root:Make sure that locally built Python SDK docker image has Python 3.8 interpreter.\n"
     ]
    },
    {
     "output_type": "stream",
     "name": "stdout",
     "text": [
      "11\n"
     ]
    },
    {
     "output_type": "execute_result",
     "data": {
      "text/plain": [
       "<apache_beam.runners.portability.fn_api_runner.fn_runner.RunnerResult at 0x7ff8d135bee0>"
      ]
     },
     "metadata": {},
     "execution_count": 16
    }
   ],
   "metadata": {}
  },
  {
   "cell_type": "markdown",
   "source": [
    "# COGroupByKey - Realiza um Join atraves de chaves de uma PCollection separada"
   ],
   "metadata": {}
  },
  {
   "cell_type": "code",
   "execution_count": 12,
   "source": [
    "p8 = beam.Pipeline()\n",
    "\n",
    "Tempo_Atrasos = (\n",
    "    p8\n",
    "    | \"Importar Dados Atraso\" >> beam.io.ReadFromText(\"data/voos_sample.csv\", skip_header_lines = 1)\n",
    "    | \"Separar por Vírgulas Atraso\" >> beam.Map(lambda record: record.split(','))\n",
    "    | \"Pegar voos com atraso\" >> beam.Filter(lambda record: int(record[8]) > 0 )\n",
    "    | \"Criar par atraso\" >> beam.Map(lambda record: (record[4],int(record[8])))\n",
    "    | \"Somar por key\" >> beam.CombinePerKey(sum)\n",
    "\n",
    ")\n",
    "\n",
    "Qtd_Atrasos = (\n",
    "    p8\n",
    "    | \"Importar Dados\" >> beam.io.ReadFromText(\"data/voos_sample.csv\", skip_header_lines = 1)\n",
    "    | \"Separar por Vírgulas\" >> beam.Map(lambda record: record.split(','))\n",
    "    | \"Pegar voos com atraso qtd\" >> beam.Filter(lambda record: int(record[8]) > 0 )\n",
    "    | \"Criar par qtd\" >> beam.Map(lambda record: (record[4],int(record[8])))\n",
    "    | \"Contar por key\" >> beam.combiners.Count.PerKey()\n",
    "\n",
    ")\n",
    "\n",
    "tabela_atrasos = (\n",
    "    {'Qtd_Atrasos':Qtd_Atrasos,'Tempo_Atrasos':Tempo_Atrasos} \n",
    "    | \"Group By\" >> beam.CoGroupByKey()\n",
    "    | beam.Map(print)\n",
    ")\n",
    "\n",
    "p8.run()\n",
    "\n",
    "# Resultado: Cria um dicionario com a quantidade de atrasos e tempos de atrasos de cada voo"
   ],
   "outputs": [
    {
     "output_type": "stream",
     "name": "stderr",
     "text": [
      "WARNING:root:Make sure that locally built Python SDK docker image has Python 3.8 interpreter.\n"
     ]
    },
    {
     "output_type": "stream",
     "name": "stdout",
     "text": [
      "('LAX', {'Qtd_Atrasos': [4], 'Tempo_Atrasos': [92]})\n",
      "('HNL', {'Qtd_Atrasos': [1], 'Tempo_Atrasos': [15]})\n",
      "('DFW', {'Qtd_Atrasos': [1], 'Tempo_Atrasos': [95]})\n",
      "('OGG', {'Qtd_Atrasos': [1], 'Tempo_Atrasos': [138]})\n",
      "('JFK', {'Qtd_Atrasos': [4], 'Tempo_Atrasos': [220]})\n"
     ]
    },
    {
     "output_type": "execute_result",
     "data": {
      "text/plain": [
       "<apache_beam.runners.portability.fn_api_runner.fn_runner.RunnerResult at 0x7ff8d3743340>"
      ]
     },
     "metadata": {},
     "execution_count": 12
    }
   ],
   "metadata": {}
  },
  {
   "cell_type": "markdown",
   "source": [
    "# ParDo - Permite criar funções personalizadas e rodar dentro do framework"
   ],
   "metadata": {}
  },
  {
   "cell_type": "code",
   "execution_count": 13,
   "source": [
    "p9 = beam.Pipeline()\n",
    "\n",
    "#Criando uma classe e passando como parâmetro a função DO(PArDO), para realizar um filtro que antes era realiza por outros metodos\n",
    "class filtro(beam.DoFn):\n",
    "    def process(self,record):\n",
    "        if int(record[8]) > 0:\n",
    "            return [record]\n",
    "\n",
    "Tempo_Atrasos = (\n",
    "    p9\n",
    "    | \"Importar Dados Atraso\" >> beam.io.ReadFromText('data/voos_sample.csv', skip_header_lines = 1)\n",
    "    | \"Separar por Vírgulas Atraso\" >> beam.Map(lambda record: record.split(','))\n",
    "    | \"Pegar voos com atraso\" >> beam.ParDo(filtro())\n",
    "    | \"Criar par atraso\" >> beam.Map(lambda record: (record[4],int(record[8])))\n",
    "    | \"Somar por key\" >> beam.CombinePerKey(sum)\n",
    "\n",
    ")\n",
    "\n",
    "Qtd_Atrasos = (\n",
    "    p9\n",
    "    | \"Importar Dados\" >> beam.io.ReadFromText('data/voos_sample.csv', skip_header_lines = 1)\n",
    "    | \"Separar por Vírgulas Qtd\" >> beam.Map(lambda record: record.split(','))\n",
    "    | \"Pegar voos com Qtd\" >> beam.ParDo(filtro())\n",
    "    | \"Criar par Qtd\" >> beam.Map(lambda record: (record[4],int(record[8])))\n",
    "    | \"Contar por key\" >> beam.combiners.Count.PerKey()\n",
    "\n",
    ")\n",
    "\n",
    "tabela_atrasos = (\n",
    "    {'Qtd_Atrasos':Qtd_Atrasos,'Tempo_Atrasos':Tempo_Atrasos} \n",
    "    | \"Group By\" >> beam.CoGroupByKey()\n",
    "    | beam.Map(print)\n",
    ")\n",
    "\n",
    "p9.run()"
   ],
   "outputs": [
    {
     "output_type": "stream",
     "name": "stderr",
     "text": [
      "WARNING:root:Make sure that locally built Python SDK docker image has Python 3.8 interpreter.\n"
     ]
    },
    {
     "output_type": "stream",
     "name": "stdout",
     "text": [
      "('LAX', {'Qtd_Atrasos': [4], 'Tempo_Atrasos': [92]})\n",
      "('HNL', {'Qtd_Atrasos': [1], 'Tempo_Atrasos': [15]})\n",
      "('DFW', {'Qtd_Atrasos': [1], 'Tempo_Atrasos': [95]})\n",
      "('OGG', {'Qtd_Atrasos': [1], 'Tempo_Atrasos': [138]})\n",
      "('JFK', {'Qtd_Atrasos': [4], 'Tempo_Atrasos': [220]})\n"
     ]
    },
    {
     "output_type": "execute_result",
     "data": {
      "text/plain": [
       "<apache_beam.runners.portability.fn_api_runner.fn_runner.RunnerResult at 0x7ff8d36e6250>"
      ]
     },
     "metadata": {},
     "execution_count": 13
    }
   ],
   "metadata": {}
  }
 ],
 "metadata": {
  "orig_nbformat": 4,
  "language_info": {
   "name": "python",
   "version": "3.8.10",
   "mimetype": "text/x-python",
   "codemirror_mode": {
    "name": "ipython",
    "version": 3
   },
   "pygments_lexer": "ipython3",
   "nbconvert_exporter": "python",
   "file_extension": ".py"
  },
  "kernelspec": {
   "name": "python3",
   "display_name": "Python 3.8.10 64-bit ('engenharia': venv)"
  },
  "interpreter": {
   "hash": "748cd64b6f3a4b73ff5e1cbac8ea9f8c45d2fa6dd358866d82707daf347f3c07"
  }
 },
 "nbformat": 4,
 "nbformat_minor": 2
}